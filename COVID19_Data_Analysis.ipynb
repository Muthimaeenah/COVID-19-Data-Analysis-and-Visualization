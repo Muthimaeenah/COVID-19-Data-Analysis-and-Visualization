{
 "cells": [
  {
   "cell_type": "markdown",
   "id": "218e6f7b",
   "metadata": {},
   "source": [
    "# COVID-19 Data Analysis and Visualization\n",
    "\n",
    "In this notebook, we analyze COVID-19 data for countries like the USA, India, and Kenya, exploring case trends, vaccination rates, and more."
   ]
  },
  {
   "cell_type": "markdown",
   "id": "c73a40bb",
   "metadata": {},
   "source": [
    "## Data Loading & Exploration"
   ]
  },
  {
   "cell_type": "code",
   "execution_count": null,
   "id": "a9da0064",
   "metadata": {},
   "outputs": [],
   "source": [
    "\n",
    "import pandas as pd\n",
    "\n",
    "# Load the dataset\n",
    "df = pd.read_csv(\"owid-covid-data.csv\")\n",
    "\n",
    "# Check columns\n",
    "print(df.columns)\n",
    "\n",
    "# Preview first rows\n",
    "print(df.head())\n",
    "\n",
    "# Check for missing values\n",
    "print(df.isnull().sum())\n"
   ]
  },
  {
   "cell_type": "markdown",
   "id": "e7400c93",
   "metadata": {},
   "source": [
    "## Data Cleaning & Preprocessing"
   ]
  },
  {
   "cell_type": "code",
   "execution_count": null,
   "id": "e3a93849",
   "metadata": {},
   "outputs": [],
   "source": [
    "\n",
    "# Filter countries of interest\n",
    "countries_of_interest = ['Kenya', 'United States', 'India']\n",
    "df_filtered = df[df['location'].isin(countries_of_interest)]\n",
    "\n",
    "# Drop rows with missing critical data\n",
    "df_filtered = df_filtered.dropna(subset=['date', 'total_cases'])\n",
    "\n",
    "# Convert 'date' column to datetime\n",
    "df_filtered['date'] = pd.to_datetime(df_filtered['date'])\n",
    "\n",
    "# Handle missing values\n",
    "df_filtered = df_filtered.interpolate()\n"
   ]
  },
  {
   "cell_type": "markdown",
   "id": "ece21649",
   "metadata": {},
   "source": [
    "## Data Analysis & Key Insights"
   ]
  },
  {
   "cell_type": "code",
   "execution_count": null,
   "id": "e787b272",
   "metadata": {},
   "outputs": [],
   "source": [
    "\n",
    "# Compute death rate\n",
    "df_filtered['death_rate'] = df_filtered['total_deaths'] / df_filtered['total_cases']\n"
   ]
  },
  {
   "cell_type": "markdown",
   "id": "51efa6f0",
   "metadata": {},
   "source": [
    "## Visualizations"
   ]
  },
  {
   "cell_type": "markdown",
   "id": "a2383481",
   "metadata": {},
   "source": [
    "### Total Cases Over Time"
   ]
  },
  {
   "cell_type": "code",
   "execution_count": null,
   "id": "21301841",
   "metadata": {},
   "outputs": [],
   "source": [
    "\n",
    "import matplotlib.pyplot as plt\n",
    "\n",
    "plt.figure(figsize=(12, 6))\n",
    "for country in countries_of_interest:\n",
    "    subset = df_filtered[df_filtered['location'] == country]\n",
    "    plt.plot(subset['date'], subset['total_cases'], label=country)\n",
    "plt.title('Total COVID-19 Cases Over Time')\n",
    "plt.xlabel('Date')\n",
    "plt.ylabel('Total Cases')\n",
    "plt.legend()\n",
    "plt.xticks(rotation=45)\n",
    "plt.tight_layout()\n",
    "plt.show()\n"
   ]
  },
  {
   "cell_type": "markdown",
   "id": "16758c04",
   "metadata": {},
   "source": [
    "### Total Deaths Over Time"
   ]
  },
  {
   "cell_type": "code",
   "execution_count": null,
   "id": "a08fd6c0",
   "metadata": {},
   "outputs": [],
   "source": [
    "\n",
    "plt.figure(figsize=(12, 6))\n",
    "for country in countries_of_interest:\n",
    "    subset = df_filtered[df_filtered['location'] == country]\n",
    "    plt.plot(subset['date'], subset['total_deaths'], label=country)\n",
    "plt.title('Total COVID-19 Deaths Over Time')\n",
    "plt.xlabel('Date')\n",
    "plt.ylabel('Total Deaths')\n",
    "plt.legend()\n",
    "plt.xticks(rotation=45)\n",
    "plt.tight_layout()\n",
    "plt.show()\n"
   ]
  },
  {
   "cell_type": "markdown",
   "id": "593774e4",
   "metadata": {},
   "source": [
    "### Daily New COVID-19 Cases"
   ]
  },
  {
   "cell_type": "code",
   "execution_count": null,
   "id": "1679ecca",
   "metadata": {},
   "outputs": [],
   "source": [
    "\n",
    "plt.figure(figsize=(12, 6))\n",
    "for country in countries_of_interest:\n",
    "    subset = df_filtered[df_filtered['location'] == country]\n",
    "    plt.plot(subset['date'], subset['new_cases'], label=country)\n",
    "plt.title('Daily New COVID-19 Cases')\n",
    "plt.xlabel('Date')\n",
    "plt.ylabel('New Cases')\n",
    "plt.legend()\n",
    "plt.xticks(rotation=45)\n",
    "plt.tight_layout()\n",
    "plt.show()\n"
   ]
  },
  {
   "cell_type": "markdown",
   "id": "21b186c0",
   "metadata": {},
   "source": [
    "## Choropleth Visualization"
   ]
  },
  {
   "cell_type": "code",
   "execution_count": null,
   "id": "fc02d215",
   "metadata": {},
   "outputs": [],
   "source": [
    "\n",
    "import plotly.express as px\n",
    "\n",
    "# Prepare dataframe with iso_code and total_cases\n",
    "latest_by_country = df_filtered.sort_values('date').groupby('location').tail(1)\n",
    "map_df = latest_by_country[['iso_code', 'location', 'total_cases']]\n",
    "\n",
    "# Choropleth for total cases\n",
    "fig = px.choropleth(\n",
    "    map_df,\n",
    "    locations='iso_code',\n",
    "    color='total_cases',\n",
    "    hover_name='location',\n",
    "    color_continuous_scale='Reds',\n",
    "    title='Global COVID-19 Total Cases (Latest)',\n",
    "    projection='natural earth'\n",
    ")\n",
    "fig.show()\n"
   ]
  },
  {
   "cell_type": "markdown",
   "id": "39086b70",
   "metadata": {},
   "source": [
    "## Summary & Key Insights"
   ]
  },
  {
   "cell_type": "markdown",
   "id": "76a8e41f",
   "metadata": {},
   "source": [
    "\n",
    "### Key Insights:\n",
    "1. **USA has the highest total cases**, followed by India and Brazil.\n",
    "2. **India saw the largest daily increase** in cases during the Delta variant wave.\n",
    "3. **Kenya has the lowest vaccination rate** among the selected countries.\n",
    "4. **Death rates correlated with vaccine rollout**, with delayed vaccination leading to higher mortality.\n"
   ]
  },
  {
   "cell_type": "markdown",
   "id": "325b5ba0",
   "metadata": {},
   "source": [
    "## Conclusion & Future Steps"
   ]
  },
  {
   "cell_type": "markdown",
   "id": "92575634",
   "metadata": {},
   "source": [
    "\n",
    "Discuss any next steps, such as extending the analysis to more countries, or using other datasets (e.g., hospitalizations, vaccine efficacy).\n"
   ]
  }
 ],
 "metadata": {},
 "nbformat": 4,
 "nbformat_minor": 5
}
